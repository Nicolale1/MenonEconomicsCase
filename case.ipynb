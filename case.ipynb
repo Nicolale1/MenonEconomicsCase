{
 "cells": [
  {
   "cell_type": "code",
   "execution_count": 97,
   "id": "1dc77a67",
   "metadata": {},
   "outputs": [],
   "source": [
    "from xgboost import XGBRegressor\n",
    "from sklearn.metrics import mean_squared_error\n",
    "from sklearn.model_selection import train_test_split\n",
    "import pandas as pd\n",
    "import numpy as np\n",
    "import matplotlib as plt\n",
    "import seaborn as sns\n",
    "from sklearn.preprocessing import StandardScaler\n",
    "from sklearn.model_selection import RandomizedSearchCV\n",
    "from scipy.stats import randint, uniform\n",
    "\n"
   ]
  },
  {
   "cell_type": "code",
   "execution_count": 98,
   "id": "a8edfbe6",
   "metadata": {},
   "outputs": [
    {
     "data": {
      "text/plain": [
       "<bound method NDFrame.head of        manuell_klassifisering  ansatteid_prediksjon  testsett  \\\n",
       "0                         NaN                   NaN         0   \n",
       "1                         NaN                   NaN         0   \n",
       "2                         NaN                   NaN         0   \n",
       "3                         NaN                   NaN         0   \n",
       "4                         NaN                   NaN         0   \n",
       "...                       ...                   ...       ...   \n",
       "60848                     NaN                   NaN         0   \n",
       "60849                     NaN                   NaN         0   \n",
       "60850                     NaN                   NaN         0   \n",
       "60851                     NaN                   NaN         0   \n",
       "60852                     NaN                   NaN         0   \n",
       "\n",
       "                                      bransjetekst_a_w  fylkesnr  komm_nr  \\\n",
       "0                          BYGGE- OG ANLEGGSVIRKSOMHET        11     1108   \n",
       "1                VAREHANDEL, REPARASJON AV MOTORVOGNER        42     4202   \n",
       "2                VAREHANDEL, REPARASJON AV MOTORVOGNER         3      301   \n",
       "3      VANNFORSYNING, AVLØPS- OG RENOVASJONSVIRKSOMHET         3      301   \n",
       "4                VAREHANDEL, REPARASJON AV MOTORVOGNER        42     4204   \n",
       "...                                                ...       ...      ...   \n",
       "60848   FAGLIG, VITENSKAPELIG OG TEKNISK TJENESTEYTING        30     3025   \n",
       "60849            VAREHANDEL, REPARASJON AV MOTORVOGNER        18     1875   \n",
       "60850                             TRANSPORT OG LAGRING        18     1824   \n",
       "60851            OVERNATTINGS- OG SERVERINGSVIRKSOMHET         3      301   \n",
       "60852            VAREHANDEL, REPARASJON AV MOTORVOGNER        15     1535   \n",
       "\n",
       "        ans        oms        vs       dri  ...  andel_samme_fylke  \\\n",
       "0      11.0     8145.0    4393.0    -354.0  ...           1.000000   \n",
       "1       6.0    12154.0    3007.0    1130.0  ...           1.000000   \n",
       "2      12.0    41805.0    8104.0     516.0  ...           0.666667   \n",
       "3      34.0  2047668.0  208865.0  140877.0  ...           0.846154   \n",
       "4      19.0   170186.0   51558.0   26501.0  ...           0.750000   \n",
       "...     ...        ...       ...       ...  ...                ...   \n",
       "60848   6.0     6400.0    1293.0     486.0  ...           1.000000   \n",
       "60849   5.0     9336.0    1297.0     -76.0  ...           1.000000   \n",
       "60850   6.0    11050.0    5611.0    1757.0  ...           1.000000   \n",
       "60851  14.0    10527.0    3040.0     260.0  ...           1.000000   \n",
       "60852  14.0    24303.0   10516.0     701.0  ...           1.000000   \n",
       "\n",
       "       andel_reisetid_u30  andel_mono_eiere  ant_eiere_forste_ledd  \\\n",
       "0                1.000000          0.000000                      5   \n",
       "1                1.000000          0.000000                      2   \n",
       "2                1.000000          0.333333                      3   \n",
       "3                0.846154          0.000000                      1   \n",
       "4                0.900000          0.000000                      1   \n",
       "...                   ...               ...                    ...   \n",
       "60848            1.000000          1.000000                      1   \n",
       "60849            1.000000          0.000000                      1   \n",
       "60850            1.000000          0.000000                      2   \n",
       "60851            1.000000          0.000000                      1   \n",
       "60852            1.000000          0.000000                      1   \n",
       "\n",
       "       ant_pers_eiere_forste_ledd  eierandel_pers_forste_ledd  \\\n",
       "0                             5.0                         1.0   \n",
       "1                             2.0                         1.0   \n",
       "2                             3.0                         1.0   \n",
       "3                             0.0                         0.0   \n",
       "4                             0.0                         0.0   \n",
       "...                           ...                         ...   \n",
       "60848                         1.0                         1.0   \n",
       "60849                         0.0                         0.0   \n",
       "60850                         2.0                         1.0   \n",
       "60851                         1.0                         1.0   \n",
       "60852                         0.0                         0.0   \n",
       "\n",
       "       andel_forsteledd  andel_priv_eiere  ant_likt_navn  andel_likt_navn  \n",
       "0              1.000000          1.000000            4.0         0.800000  \n",
       "1              1.000000          1.000000            2.0         1.000000  \n",
       "2              1.000000          1.000000            3.0         1.000000  \n",
       "3              0.076923          1.000000            7.0         0.538462  \n",
       "4              0.083333          0.833333            4.0         0.333333  \n",
       "...                 ...               ...            ...              ...  \n",
       "60848          1.000000          1.000000            0.0         0.000000  \n",
       "60849          1.000000          1.000000            0.0         0.000000  \n",
       "60850          1.000000          1.000000            0.0         0.000000  \n",
       "60851          1.000000          1.000000            0.0         0.000000  \n",
       "60852          1.000000          1.000000            0.0         0.000000  \n",
       "\n",
       "[60853 rows x 46 columns]>"
      ]
     },
     "execution_count": 98,
     "metadata": {},
     "output_type": "execute_result"
    }
   ],
   "source": [
    "df = pd.read_csv(\"datasett.csv\")\n",
    "df.head\n",
    "\n",
    "\n"
   ]
  },
  {
   "cell_type": "markdown",
   "id": "506568d3",
   "metadata": {},
   "source": [
    "\n"
   ]
  },
  {
   "cell_type": "code",
   "execution_count": 99,
   "id": "efe9ab46",
   "metadata": {},
   "outputs": [],
   "source": [
    "f_labeled = df[df[\"manuell_klassifisering\"].notnull()]\n",
    "#f_labeled.head\n",
    "t_labeld = df[df.testsett==1]\n"
   ]
  },
  {
   "cell_type": "code",
   "execution_count": 100,
   "id": "505b44ec",
   "metadata": {},
   "outputs": [
    {
     "data": {
      "text/html": [
       "<style>#sk-container-id-4 {color: black;background-color: white;}#sk-container-id-4 pre{padding: 0;}#sk-container-id-4 div.sk-toggleable {background-color: white;}#sk-container-id-4 label.sk-toggleable__label {cursor: pointer;display: block;width: 100%;margin-bottom: 0;padding: 0.3em;box-sizing: border-box;text-align: center;}#sk-container-id-4 label.sk-toggleable__label-arrow:before {content: \"▸\";float: left;margin-right: 0.25em;color: #696969;}#sk-container-id-4 label.sk-toggleable__label-arrow:hover:before {color: black;}#sk-container-id-4 div.sk-estimator:hover label.sk-toggleable__label-arrow:before {color: black;}#sk-container-id-4 div.sk-toggleable__content {max-height: 0;max-width: 0;overflow: hidden;text-align: left;background-color: #f0f8ff;}#sk-container-id-4 div.sk-toggleable__content pre {margin: 0.2em;color: black;border-radius: 0.25em;background-color: #f0f8ff;}#sk-container-id-4 input.sk-toggleable__control:checked~div.sk-toggleable__content {max-height: 200px;max-width: 100%;overflow: auto;}#sk-container-id-4 input.sk-toggleable__control:checked~label.sk-toggleable__label-arrow:before {content: \"▾\";}#sk-container-id-4 div.sk-estimator input.sk-toggleable__control:checked~label.sk-toggleable__label {background-color: #d4ebff;}#sk-container-id-4 div.sk-label input.sk-toggleable__control:checked~label.sk-toggleable__label {background-color: #d4ebff;}#sk-container-id-4 input.sk-hidden--visually {border: 0;clip: rect(1px 1px 1px 1px);clip: rect(1px, 1px, 1px, 1px);height: 1px;margin: -1px;overflow: hidden;padding: 0;position: absolute;width: 1px;}#sk-container-id-4 div.sk-estimator {font-family: monospace;background-color: #f0f8ff;border: 1px dotted black;border-radius: 0.25em;box-sizing: border-box;margin-bottom: 0.5em;}#sk-container-id-4 div.sk-estimator:hover {background-color: #d4ebff;}#sk-container-id-4 div.sk-parallel-item::after {content: \"\";width: 100%;border-bottom: 1px solid gray;flex-grow: 1;}#sk-container-id-4 div.sk-label:hover label.sk-toggleable__label {background-color: #d4ebff;}#sk-container-id-4 div.sk-serial::before {content: \"\";position: absolute;border-left: 1px solid gray;box-sizing: border-box;top: 0;bottom: 0;left: 50%;z-index: 0;}#sk-container-id-4 div.sk-serial {display: flex;flex-direction: column;align-items: center;background-color: white;padding-right: 0.2em;padding-left: 0.2em;position: relative;}#sk-container-id-4 div.sk-item {position: relative;z-index: 1;}#sk-container-id-4 div.sk-parallel {display: flex;align-items: stretch;justify-content: center;background-color: white;position: relative;}#sk-container-id-4 div.sk-item::before, #sk-container-id-4 div.sk-parallel-item::before {content: \"\";position: absolute;border-left: 1px solid gray;box-sizing: border-box;top: 0;bottom: 0;left: 50%;z-index: -1;}#sk-container-id-4 div.sk-parallel-item {display: flex;flex-direction: column;z-index: 1;position: relative;background-color: white;}#sk-container-id-4 div.sk-parallel-item:first-child::after {align-self: flex-end;width: 50%;}#sk-container-id-4 div.sk-parallel-item:last-child::after {align-self: flex-start;width: 50%;}#sk-container-id-4 div.sk-parallel-item:only-child::after {width: 0;}#sk-container-id-4 div.sk-dashed-wrapped {border: 1px dashed gray;margin: 0 0.4em 0.5em 0.4em;box-sizing: border-box;padding-bottom: 0.4em;background-color: white;}#sk-container-id-4 div.sk-label label {font-family: monospace;font-weight: bold;display: inline-block;line-height: 1.2em;}#sk-container-id-4 div.sk-label-container {text-align: center;}#sk-container-id-4 div.sk-container {/* jupyter's `normalize.less` sets `[hidden] { display: none; }` but bootstrap.min.css set `[hidden] { display: none !important; }` so we also need the `!important` here to be able to override the default hidden behavior on the sphinx rendered scikit-learn.org. See: https://github.com/scikit-learn/scikit-learn/issues/21755 */display: inline-block !important;position: relative;}#sk-container-id-4 div.sk-text-repr-fallback {display: none;}</style><div id=\"sk-container-id-4\" class=\"sk-top-container\"><div class=\"sk-text-repr-fallback\"><pre>XGBRegressor(base_score=None, booster=None, callbacks=None,\n",
       "             colsample_bylevel=None, colsample_bynode=None,\n",
       "             colsample_bytree=None, device=None, early_stopping_rounds=None,\n",
       "             enable_categorical=True, eval_metric=None, feature_types=None,\n",
       "             gamma=None, grow_policy=None, importance_type=None,\n",
       "             interaction_constraints=None, learning_rate=None, max_bin=None,\n",
       "             max_cat_threshold=None, max_cat_to_onehot=None,\n",
       "             max_delta_step=None, max_depth=None, max_leaves=None,\n",
       "             min_child_weight=None, missing=nan, monotone_constraints=None,\n",
       "             multi_strategy=None, n_estimators=None, n_jobs=None,\n",
       "             num_parallel_tree=None, random_state=None, ...)</pre><b>In a Jupyter environment, please rerun this cell to show the HTML representation or trust the notebook. <br />On GitHub, the HTML representation is unable to render, please try loading this page with nbviewer.org.</b></div><div class=\"sk-container\" hidden><div class=\"sk-item\"><div class=\"sk-estimator sk-toggleable\"><input class=\"sk-toggleable__control sk-hidden--visually\" id=\"sk-estimator-id-4\" type=\"checkbox\" checked><label for=\"sk-estimator-id-4\" class=\"sk-toggleable__label sk-toggleable__label-arrow\">XGBRegressor</label><div class=\"sk-toggleable__content\"><pre>XGBRegressor(base_score=None, booster=None, callbacks=None,\n",
       "             colsample_bylevel=None, colsample_bynode=None,\n",
       "             colsample_bytree=None, device=None, early_stopping_rounds=None,\n",
       "             enable_categorical=True, eval_metric=None, feature_types=None,\n",
       "             gamma=None, grow_policy=None, importance_type=None,\n",
       "             interaction_constraints=None, learning_rate=None, max_bin=None,\n",
       "             max_cat_threshold=None, max_cat_to_onehot=None,\n",
       "             max_delta_step=None, max_depth=None, max_leaves=None,\n",
       "             min_child_weight=None, missing=nan, monotone_constraints=None,\n",
       "             multi_strategy=None, n_estimators=None, n_jobs=None,\n",
       "             num_parallel_tree=None, random_state=None, ...)</pre></div></div></div></div></div>"
      ],
      "text/plain": [
       "XGBRegressor(base_score=None, booster=None, callbacks=None,\n",
       "             colsample_bylevel=None, colsample_bynode=None,\n",
       "             colsample_bytree=None, device=None, early_stopping_rounds=None,\n",
       "             enable_categorical=True, eval_metric=None, feature_types=None,\n",
       "             gamma=None, grow_policy=None, importance_type=None,\n",
       "             interaction_constraints=None, learning_rate=None, max_bin=None,\n",
       "             max_cat_threshold=None, max_cat_to_onehot=None,\n",
       "             max_delta_step=None, max_depth=None, max_leaves=None,\n",
       "             min_child_weight=None, missing=nan, monotone_constraints=None,\n",
       "             multi_strategy=None, n_estimators=None, n_jobs=None,\n",
       "             num_parallel_tree=None, random_state=None, ...)"
      ]
     },
     "execution_count": 100,
     "metadata": {},
     "output_type": "execute_result"
    }
   ],
   "source": [
    "# 1. Les inn data og filtrer de med manuell klassifisering\n",
    "df = pd.read_csv(\"datasett.csv\")\n",
    "df_labeled = df[df[\"manuell_klassifisering\"].notnull()]\n",
    "\n",
    "# 2. Del i X og y\n",
    "X = df_labeled.drop(columns=[\"manuell_klassifisering\"])\n",
    "y = df_labeled[\"manuell_klassifisering\"]\n",
    "X_test = df_labeled.drop(columns=[\"manuell_klassifisering\"])\n",
    "\n",
    "# 3. Konverter alle object-kolonner i X til category\n",
    "for col in X.select_dtypes(include=\"object\").columns:\n",
    "    X[col] = X[col].astype(\"category\")\n",
    "\n",
    "# 4. Splitt data\n",
    "X_train, X_valid, y_train, y_valid = train_test_split(\n",
    "    X, y, test_size=0.2, random_state=0\n",
    ")\n",
    "\n",
    "# 5. Initialiser og tren modell\n",
    "model = XGBRegressor(enable_categorical=True)\n",
    "model.fit(X_train, y_train)"
   ]
  },
  {
   "cell_type": "code",
   "execution_count": 101,
   "id": "feabf758",
   "metadata": {},
   "outputs": [
    {
     "data": {
      "text/html": [
       "<style>#sk-container-id-5 {color: black;background-color: white;}#sk-container-id-5 pre{padding: 0;}#sk-container-id-5 div.sk-toggleable {background-color: white;}#sk-container-id-5 label.sk-toggleable__label {cursor: pointer;display: block;width: 100%;margin-bottom: 0;padding: 0.3em;box-sizing: border-box;text-align: center;}#sk-container-id-5 label.sk-toggleable__label-arrow:before {content: \"▸\";float: left;margin-right: 0.25em;color: #696969;}#sk-container-id-5 label.sk-toggleable__label-arrow:hover:before {color: black;}#sk-container-id-5 div.sk-estimator:hover label.sk-toggleable__label-arrow:before {color: black;}#sk-container-id-5 div.sk-toggleable__content {max-height: 0;max-width: 0;overflow: hidden;text-align: left;background-color: #f0f8ff;}#sk-container-id-5 div.sk-toggleable__content pre {margin: 0.2em;color: black;border-radius: 0.25em;background-color: #f0f8ff;}#sk-container-id-5 input.sk-toggleable__control:checked~div.sk-toggleable__content {max-height: 200px;max-width: 100%;overflow: auto;}#sk-container-id-5 input.sk-toggleable__control:checked~label.sk-toggleable__label-arrow:before {content: \"▾\";}#sk-container-id-5 div.sk-estimator input.sk-toggleable__control:checked~label.sk-toggleable__label {background-color: #d4ebff;}#sk-container-id-5 div.sk-label input.sk-toggleable__control:checked~label.sk-toggleable__label {background-color: #d4ebff;}#sk-container-id-5 input.sk-hidden--visually {border: 0;clip: rect(1px 1px 1px 1px);clip: rect(1px, 1px, 1px, 1px);height: 1px;margin: -1px;overflow: hidden;padding: 0;position: absolute;width: 1px;}#sk-container-id-5 div.sk-estimator {font-family: monospace;background-color: #f0f8ff;border: 1px dotted black;border-radius: 0.25em;box-sizing: border-box;margin-bottom: 0.5em;}#sk-container-id-5 div.sk-estimator:hover {background-color: #d4ebff;}#sk-container-id-5 div.sk-parallel-item::after {content: \"\";width: 100%;border-bottom: 1px solid gray;flex-grow: 1;}#sk-container-id-5 div.sk-label:hover label.sk-toggleable__label {background-color: #d4ebff;}#sk-container-id-5 div.sk-serial::before {content: \"\";position: absolute;border-left: 1px solid gray;box-sizing: border-box;top: 0;bottom: 0;left: 50%;z-index: 0;}#sk-container-id-5 div.sk-serial {display: flex;flex-direction: column;align-items: center;background-color: white;padding-right: 0.2em;padding-left: 0.2em;position: relative;}#sk-container-id-5 div.sk-item {position: relative;z-index: 1;}#sk-container-id-5 div.sk-parallel {display: flex;align-items: stretch;justify-content: center;background-color: white;position: relative;}#sk-container-id-5 div.sk-item::before, #sk-container-id-5 div.sk-parallel-item::before {content: \"\";position: absolute;border-left: 1px solid gray;box-sizing: border-box;top: 0;bottom: 0;left: 50%;z-index: -1;}#sk-container-id-5 div.sk-parallel-item {display: flex;flex-direction: column;z-index: 1;position: relative;background-color: white;}#sk-container-id-5 div.sk-parallel-item:first-child::after {align-self: flex-end;width: 50%;}#sk-container-id-5 div.sk-parallel-item:last-child::after {align-self: flex-start;width: 50%;}#sk-container-id-5 div.sk-parallel-item:only-child::after {width: 0;}#sk-container-id-5 div.sk-dashed-wrapped {border: 1px dashed gray;margin: 0 0.4em 0.5em 0.4em;box-sizing: border-box;padding-bottom: 0.4em;background-color: white;}#sk-container-id-5 div.sk-label label {font-family: monospace;font-weight: bold;display: inline-block;line-height: 1.2em;}#sk-container-id-5 div.sk-label-container {text-align: center;}#sk-container-id-5 div.sk-container {/* jupyter's `normalize.less` sets `[hidden] { display: none; }` but bootstrap.min.css set `[hidden] { display: none !important; }` so we also need the `!important` here to be able to override the default hidden behavior on the sphinx rendered scikit-learn.org. See: https://github.com/scikit-learn/scikit-learn/issues/21755 */display: inline-block !important;position: relative;}#sk-container-id-5 div.sk-text-repr-fallback {display: none;}</style><div id=\"sk-container-id-5\" class=\"sk-top-container\"><div class=\"sk-text-repr-fallback\"><pre>XGBRegressor(base_score=None, booster=None, callbacks=None,\n",
       "             colsample_bylevel=None, colsample_bynode=None,\n",
       "             colsample_bytree=None, device=None, early_stopping_rounds=None,\n",
       "             enable_categorical=True, eval_metric=None, feature_types=None,\n",
       "             gamma=None, grow_policy=None, importance_type=None,\n",
       "             interaction_constraints=None, learning_rate=None, max_bin=None,\n",
       "             max_cat_threshold=None, max_cat_to_onehot=None,\n",
       "             max_delta_step=None, max_depth=None, max_leaves=None,\n",
       "             min_child_weight=None, missing=nan, monotone_constraints=None,\n",
       "             multi_strategy=None, n_estimators=None, n_jobs=None,\n",
       "             num_parallel_tree=None, random_state=None, ...)</pre><b>In a Jupyter environment, please rerun this cell to show the HTML representation or trust the notebook. <br />On GitHub, the HTML representation is unable to render, please try loading this page with nbviewer.org.</b></div><div class=\"sk-container\" hidden><div class=\"sk-item\"><div class=\"sk-estimator sk-toggleable\"><input class=\"sk-toggleable__control sk-hidden--visually\" id=\"sk-estimator-id-5\" type=\"checkbox\" checked><label for=\"sk-estimator-id-5\" class=\"sk-toggleable__label sk-toggleable__label-arrow\">XGBRegressor</label><div class=\"sk-toggleable__content\"><pre>XGBRegressor(base_score=None, booster=None, callbacks=None,\n",
       "             colsample_bylevel=None, colsample_bynode=None,\n",
       "             colsample_bytree=None, device=None, early_stopping_rounds=None,\n",
       "             enable_categorical=True, eval_metric=None, feature_types=None,\n",
       "             gamma=None, grow_policy=None, importance_type=None,\n",
       "             interaction_constraints=None, learning_rate=None, max_bin=None,\n",
       "             max_cat_threshold=None, max_cat_to_onehot=None,\n",
       "             max_delta_step=None, max_depth=None, max_leaves=None,\n",
       "             min_child_weight=None, missing=nan, monotone_constraints=None,\n",
       "             multi_strategy=None, n_estimators=None, n_jobs=None,\n",
       "             num_parallel_tree=None, random_state=None, ...)</pre></div></div></div></div></div>"
      ],
      "text/plain": [
       "XGBRegressor(base_score=None, booster=None, callbacks=None,\n",
       "             colsample_bylevel=None, colsample_bynode=None,\n",
       "             colsample_bytree=None, device=None, early_stopping_rounds=None,\n",
       "             enable_categorical=True, eval_metric=None, feature_types=None,\n",
       "             gamma=None, grow_policy=None, importance_type=None,\n",
       "             interaction_constraints=None, learning_rate=None, max_bin=None,\n",
       "             max_cat_threshold=None, max_cat_to_onehot=None,\n",
       "             max_delta_step=None, max_depth=None, max_leaves=None,\n",
       "             min_child_weight=None, missing=nan, monotone_constraints=None,\n",
       "             multi_strategy=None, n_estimators=None, n_jobs=None,\n",
       "             num_parallel_tree=None, random_state=None, ...)"
      ]
     },
     "execution_count": 101,
     "metadata": {},
     "output_type": "execute_result"
    }
   ],
   "source": [
    "model.fit(X_train, y_train)"
   ]
  },
  {
   "cell_type": "code",
   "execution_count": 102,
   "id": "37646640",
   "metadata": {},
   "outputs": [],
   "source": [
    "y_pred = model.predict(X_valid)"
   ]
  },
  {
   "cell_type": "code",
   "execution_count": 103,
   "id": "12724eec",
   "metadata": {},
   "outputs": [
    {
     "name": "stdout",
     "output_type": "stream",
     "text": [
      "MSE: 0.114\n",
      "R²: 0.445\n"
     ]
    }
   ],
   "source": [
    "from sklearn.metrics import mean_squared_error, r2_score\n",
    "\n",
    "mse = mean_squared_error(y_valid, y_pred)\n",
    "r2 = r2_score(y_valid, y_pred)\n",
    "\n",
    "print(f\"MSE: {mse:.3f}\")\n",
    "print(f\"R²: {r2:.3f}\")\n"
   ]
  },
  {
   "cell_type": "code",
   "execution_count": 104,
   "id": "4adf20ed",
   "metadata": {},
   "outputs": [
    {
     "name": "stdout",
     "output_type": "stream",
     "text": [
      "[ 0.9  0.3 -0.   0.3  0.3  0.1  0.5  0.   1.   0.4  0.7  1.   0.3  0.7\n",
      " -0.1  0.7  0.6  1.   0.8  0.9  0.9  1.   0.   0.7  0.3  0.1  0.7  0.3\n",
      "  0.5  0.1 -0.   0.5  1.   0.9]\n"
     ]
    }
   ],
   "source": [
    "#print(y_valid)\n",
    "#print(y_pred)\n",
    "print(np.round(y_pred, 1))"
   ]
  },
  {
   "cell_type": "code",
   "execution_count": 105,
   "id": "02abd168",
   "metadata": {},
   "outputs": [
    {
     "name": "stderr",
     "output_type": "stream",
     "text": [
      "c:\\Users\\nicer\\anaconda3\\envs\\in3050\\Lib\\site-packages\\sklearn\\utils\\extmath.py:1047: RuntimeWarning: invalid value encountered in divide\n",
      "  updated_mean = (last_sum + new_sum) / updated_sample_count\n",
      "c:\\Users\\nicer\\anaconda3\\envs\\in3050\\Lib\\site-packages\\sklearn\\utils\\extmath.py:1052: RuntimeWarning: invalid value encountered in divide\n",
      "  T = new_sum / new_sample_count\n",
      "c:\\Users\\nicer\\anaconda3\\envs\\in3050\\Lib\\site-packages\\sklearn\\utils\\extmath.py:1072: RuntimeWarning: invalid value encountered in divide\n",
      "  new_unnormalized_variance -= correction**2 / new_sample_count\n"
     ]
    }
   ],
   "source": [
    "\n",
    "numeric_cols = X.select_dtypes(include=[\"int64\", \"float64\"]).columns\n",
    "scaler = StandardScaler()\n",
    "X_train_scaled = X_train.copy()\n",
    "X_valid_scaled = X_valid.copy()\n",
    "\n",
    "X_train_scaled[numeric_cols] = scaler.fit_transform(X_train[numeric_cols])\n",
    "X_valid_scaled[numeric_cols] = scaler.transform(X_valid[numeric_cols])\n",
    "model.fit(X_train_scaled, y_train)\n",
    "y_pred = model.predict(X_valid_scaled)\n",
    "\n"
   ]
  },
  {
   "cell_type": "code",
   "execution_count": 106,
   "id": "158ea5a9",
   "metadata": {},
   "outputs": [
    {
     "name": "stdout",
     "output_type": "stream",
     "text": [
      "Fitting 3 folds for each of 30 candidates, totalling 90 fits\n",
      "Best parameters: {'colsample_bytree': 0.6661067756252009, 'gamma': 0.07818203370596966, 'learning_rate': 0.1370204442119109, 'max_depth': 3, 'n_estimators': 235, 'reg_alpha': 0.027610585618011996, 'reg_lambda': 4.0773071422741705, 'subsample': 0.8827429375390468}\n",
      "Best MSE: 0.14176499425610334\n"
     ]
    }
   ],
   "source": [
    "param_dist = {\n",
    "    \"n_estimators\": randint(100, 500),               # number of trees\n",
    "    \"max_depth\": randint(3, 12),                     # tree depth\n",
    "    \"learning_rate\": uniform(0.01, 0.3),             # shrinkage\n",
    "    \"subsample\": uniform(0.6, 0.4),                  # fraction of samples used\n",
    "    \"colsample_bytree\": uniform(0.6, 0.4),           # fraction of features used\n",
    "    \"gamma\": uniform(0, 5),                          # min loss reduction to split\n",
    "    \"reg_alpha\": uniform(0, 5),                      # L1 regularization\n",
    "    \"reg_lambda\": uniform(0, 5),                     # L2 regularization\n",
    "}\n",
    "\n",
    "\n",
    "random_search = RandomizedSearchCV(\n",
    "    estimator=XGBRegressor(enable_categorical=True),\n",
    "    param_distributions=param_dist,\n",
    "    n_iter=30,\n",
    "    scoring='neg_mean_squared_error',\n",
    "    cv=3,\n",
    "    verbose=1,\n",
    "    n_jobs=-1,\n",
    "    random_state=42\n",
    ")\n",
    "\n",
    "random_search.fit(X_valid_scaled, y_valid) #skal det vere train eller validation data?\n",
    "\n",
    "print(\"Best parameters:\", random_search.best_params_)\n",
    "print(\"Best MSE:\", -random_search.best_score_)"
   ]
  },
  {
   "cell_type": "code",
   "execution_count": 107,
   "id": "83895f79",
   "metadata": {},
   "outputs": [
    {
     "name": "stdout",
     "output_type": "stream",
     "text": [
      "XGBRegressor(base_score=None, booster=None, callbacks=None,\n",
      "             colsample_bylevel=None, colsample_bynode=None,\n",
      "             colsample_bytree=0.6661067756252009, device=None,\n",
      "             early_stopping_rounds=None, enable_categorical=True,\n",
      "             eval_metric=None, feature_types=None, gamma=0.07818203370596966,\n",
      "             grow_policy=None, importance_type=None,\n",
      "             interaction_constraints=None, learning_rate=0.1370204442119109,\n",
      "             max_bin=None, max_cat_threshold=None, max_cat_to_onehot=None,\n",
      "             max_delta_step=None, max_depth=3, max_leaves=None,\n",
      "             min_child_weight=None, missing=nan, monotone_constraints=None,\n",
      "             multi_strategy=None, n_estimators=235, n_jobs=None,\n",
      "             num_parallel_tree=None, random_state=None, ...)\n"
     ]
    }
   ],
   "source": [
    "best_model = random_search.best_estimator_\n",
    "print(best_model)\n",
    "y_pred = best_model.predict(X_train_scaled)\n",
    "best_model = random_search.best_estimator_\n"
   ]
  },
  {
   "cell_type": "code",
   "execution_count": 108,
   "id": "e2daf78c",
   "metadata": {},
   "outputs": [
    {
     "name": "stdout",
     "output_type": "stream",
     "text": [
      "[0.5873499  0.32522613 0.6441915  0.70177245 0.5343515  0.67648137\n",
      " 0.73611015 0.46911836 0.54902667 0.7937383  0.27331394 0.47785684\n",
      " 0.61467385 0.6653431  0.7287166  0.1331843  0.50131327 0.3487024\n",
      " 0.77654207 0.35563836 0.06680953 0.35194224 0.230933   0.51648974\n",
      " 0.9814565  0.0244791  0.7114381  0.80482036 0.49624515 0.8082649\n",
      " 0.8058565  0.60192287 0.9008049  0.8926379  0.5304329  0.23027764\n",
      " 0.68917614 0.59626925 0.5442746  0.6743921  0.56037664 0.37462682\n",
      " 0.69874364 0.20676215 0.79704845 0.30698282 0.63381636 0.38485304\n",
      " 0.5257959  0.6740849 ]\n"
     ]
    }
   ],
   "source": [
    "test_set = df[df[\"testsett\"] == 1].drop(columns=[\"manuell_klassifisering\"], errors='ignore')\n",
    "test_set_scaled = test_set.copy()\n",
    "test_set_scaled[numeric_cols] = scaler.transform(test_set[numeric_cols])\n",
    "\n",
    "# Gjør object-kolonner til category\n",
    "for col in test_set_scaled.select_dtypes(include=\"object\").columns:\n",
    "    test_set_scaled[col] = test_set_scaled[col].astype(\"category\")\n",
    "\n",
    "# Prediker\n",
    "\n",
    "prediksjoner = best_model.predict(test_set_scaled)\n",
    "print(prediksjoner)\n",
    "df.loc[df[\"testsett\"] == 1, \"ansatteid_prediksjon\"] = prediksjoner"
   ]
  },
  {
   "cell_type": "code",
   "execution_count": 109,
   "id": "68f09d0d",
   "metadata": {},
   "outputs": [
    {
     "name": "stdout",
     "output_type": "stream",
     "text": [
      "{\"5\":0.5873498917,\"67\":0.3252261281,\"495\":0.6441915035,\"905\":0.7017724514,\"992\":0.5343515277,\"998\":0.6764813662,\"2679\":0.7361101508,\"2764\":0.4691183567,\"3334\":0.5490266681,\"3936\":0.7937383056,\"4117\":0.2733139396,\"4159\":0.4778568447,\"4232\":0.6146738529,\"4637\":0.6653431058,\"4831\":0.7287166119,\"5114\":0.1331842989,\"5671\":0.5013132691,\"6787\":0.3487024009,\"7703\":0.7765420675,\"9698\":0.355638355,\"10224\":0.0668095276,\"10748\":0.3519422412,\"14054\":0.2309329957,\"14471\":0.5164897442,\"17052\":0.9814565182,\"20151\":0.0244790986,\"26501\":0.7114381194,\"26858\":0.8048203588,\"27078\":0.4962451458,\"27693\":0.8082649112,\"27816\":0.8058565259,\"29574\":0.6019228697,\"30379\":0.9008048773,\"33279\":0.8926379085,\"33304\":0.5304328799,\"33852\":0.2302776426,\"36468\":0.6891761422,\"43648\":0.5962692499,\"43877\":0.5442746282,\"45341\":0.6743921041,\"45956\":0.5603766441,\"48032\":0.3746268153,\"48803\":0.6987436414,\"50905\":0.2067621499,\"51410\":0.7970484495,\"52885\":0.3069828153,\"55170\":0.6338163614,\"55977\":0.3848530352,\"57635\":0.525795877,\"59087\":0.6740849018}\n"
     ]
    }
   ],
   "source": [
    "print(df.loc[df.testsett==1,\"ansatteid_prediksjon\"].to_json())"
   ]
  }
 ],
 "metadata": {
  "kernelspec": {
   "display_name": "in3050",
   "language": "python",
   "name": "python3"
  },
  "language_info": {
   "codemirror_mode": {
    "name": "ipython",
    "version": 3
   },
   "file_extension": ".py",
   "mimetype": "text/x-python",
   "name": "python",
   "nbconvert_exporter": "python",
   "pygments_lexer": "ipython3",
   "version": "3.11.7"
  }
 },
 "nbformat": 4,
 "nbformat_minor": 5
}
